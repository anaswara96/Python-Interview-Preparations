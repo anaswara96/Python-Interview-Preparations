{
 "cells": [
  {
   "cell_type": "markdown",
   "id": "3f86601a",
   "metadata": {},
   "source": [
    "### Intro Variables"
   ]
  },
  {
   "cell_type": "code",
   "execution_count": null,
   "id": "3a7aef9e",
   "metadata": {},
   "outputs": [],
   "source": [
    "price= 900"
   ]
  },
  {
   "cell_type": "code",
   "execution_count": null,
   "id": "761ad362",
   "metadata": {},
   "outputs": [],
   "source": [
    "print(price)"
   ]
  },
  {
   "cell_type": "code",
   "execution_count": null,
   "id": "67251385",
   "metadata": {},
   "outputs": [],
   "source": [
    "print(\"The price of the mobile is $\", price, sep=\"\")"
   ]
  },
  {
   "cell_type": "code",
   "execution_count": null,
   "id": "0faa4152",
   "metadata": {},
   "outputs": [],
   "source": [
    "rent=1220"
   ]
  },
  {
   "cell_type": "code",
   "execution_count": null,
   "id": "880c7915",
   "metadata": {},
   "outputs": [],
   "source": [
    "gas=567"
   ]
  },
  {
   "cell_type": "code",
   "execution_count": null,
   "id": "66fabfa8",
   "metadata": {},
   "outputs": [],
   "source": [
    "groceries=300"
   ]
  },
  {
   "cell_type": "code",
   "execution_count": null,
   "id": "036bf02f",
   "metadata": {},
   "outputs": [],
   "source": [
    "print(gas)"
   ]
  },
  {
   "cell_type": "code",
   "execution_count": null,
   "id": "c7a562e1",
   "metadata": {},
   "outputs": [],
   "source": [
    "total=rent+gas+groceries"
   ]
  },
  {
   "cell_type": "code",
   "execution_count": null,
   "id": "f583eeea",
   "metadata": {},
   "outputs": [],
   "source": [
    "print(total)"
   ]
  },
  {
   "cell_type": "code",
   "execution_count": null,
   "id": "cf6e8c6a",
   "metadata": {},
   "outputs": [],
   "source": [
    "brand=\"apple\""
   ]
  },
  {
   "cell_type": "code",
   "execution_count": null,
   "id": "98c24eff",
   "metadata": {},
   "outputs": [],
   "source": [
    "print(\"The mobile brand is\",brand)"
   ]
  },
  {
   "cell_type": "code",
   "execution_count": null,
   "id": "0d97b1fc",
   "metadata": {},
   "outputs": [],
   "source": [
    "type(brand)"
   ]
  },
  {
   "cell_type": "code",
   "execution_count": null,
   "id": "557f22e7",
   "metadata": {},
   "outputs": [],
   "source": [
    "type(price)"
   ]
  },
  {
   "cell_type": "code",
   "execution_count": null,
   "id": "29137637",
   "metadata": {},
   "outputs": [],
   "source": [
    "bill=price+price"
   ]
  },
  {
   "cell_type": "code",
   "execution_count": null,
   "id": "fbd36f4e",
   "metadata": {},
   "outputs": [],
   "source": [
    "print(\"The bill amount is $\",bill,sep=\"\")"
   ]
  },
  {
   "cell_type": "code",
   "execution_count": null,
   "id": "7ebc96d4",
   "metadata": {},
   "outputs": [],
   "source": [
    "price=800"
   ]
  },
  {
   "cell_type": "code",
   "execution_count": null,
   "id": "3781e411",
   "metadata": {},
   "outputs": [],
   "source": [
    "discount=15"
   ]
  },
  {
   "cell_type": "code",
   "execution_count": null,
   "id": "abb81879",
   "metadata": {},
   "outputs": [],
   "source": [
    "price_after_discount= price-discount"
   ]
  },
  {
   "cell_type": "code",
   "execution_count": null,
   "id": "6f2f22bc",
   "metadata": {},
   "outputs": [],
   "source": [
    "print(\"The Price after discount is $\",price_after_discount,sep=\"\")"
   ]
  },
  {
   "cell_type": "code",
   "execution_count": null,
   "id": "33a37555",
   "metadata": {},
   "outputs": [],
   "source": [
    "bill=1800"
   ]
  },
  {
   "cell_type": "code",
   "execution_count": null,
   "id": "d6a2b8e8",
   "metadata": {},
   "outputs": [],
   "source": [
    "price=900"
   ]
  },
  {
   "cell_type": "code",
   "execution_count": null,
   "id": "090015b9",
   "metadata": {},
   "outputs": [],
   "source": [
    "# No of item\n",
    "x=bill//price"
   ]
  },
  {
   "cell_type": "code",
   "execution_count": null,
   "id": "9f399a6f",
   "metadata": {},
   "outputs": [],
   "source": [
    "print(\"The customer buy\",x,\"items\")"
   ]
  },
  {
   "cell_type": "markdown",
   "id": "c3bac5bd",
   "metadata": {},
   "source": [
    "### Type Conversion"
   ]
  },
  {
   "cell_type": "code",
   "execution_count": null,
   "id": "71659438",
   "metadata": {},
   "outputs": [],
   "source": [
    "brand=\"apple\""
   ]
  },
  {
   "cell_type": "code",
   "execution_count": null,
   "id": "0deb5628",
   "metadata": {},
   "outputs": [],
   "source": [
    "ram=4"
   ]
  },
  {
   "cell_type": "code",
   "execution_count": null,
   "id": "803bcb7d",
   "metadata": {},
   "outputs": [],
   "source": [
    "print(brand,ram,\"GB\")"
   ]
  },
  {
   "cell_type": "code",
   "execution_count": null,
   "id": "2bbd14ba",
   "metadata": {},
   "outputs": [],
   "source": [
    "print(brand+ram+\"GB\")"
   ]
  },
  {
   "cell_type": "code",
   "execution_count": null,
   "id": "b512ca1b",
   "metadata": {},
   "outputs": [],
   "source": [
    "print(brand+\" \"+str(ram)+\"GB\")"
   ]
  },
  {
   "cell_type": "markdown",
   "id": "0e4832d9",
   "metadata": {},
   "source": [
    "### Numbers"
   ]
  },
  {
   "cell_type": "code",
   "execution_count": null,
   "id": "9eced069",
   "metadata": {},
   "outputs": [],
   "source": [
    "2+2"
   ]
  },
  {
   "cell_type": "code",
   "execution_count": null,
   "id": "75d43147",
   "metadata": {},
   "outputs": [],
   "source": [
    "5-4"
   ]
  },
  {
   "cell_type": "code",
   "execution_count": null,
   "id": "158d8bee",
   "metadata": {},
   "outputs": [],
   "source": [
    "4*4"
   ]
  },
  {
   "cell_type": "code",
   "execution_count": null,
   "id": "d7fc0ce5",
   "metadata": {},
   "outputs": [],
   "source": [
    "11%2 # To get reminder"
   ]
  },
  {
   "cell_type": "code",
   "execution_count": null,
   "id": "901530e5",
   "metadata": {},
   "outputs": [],
   "source": [
    "3**3 # Power"
   ]
  },
  {
   "cell_type": "code",
   "execution_count": null,
   "id": "d58a5472",
   "metadata": {},
   "outputs": [],
   "source": [
    "2**4"
   ]
  },
  {
   "cell_type": "code",
   "execution_count": null,
   "id": "b7b7b273",
   "metadata": {},
   "outputs": [],
   "source": [
    "Total_distance=435"
   ]
  },
  {
   "cell_type": "code",
   "execution_count": null,
   "id": "af48b478",
   "metadata": {},
   "outputs": [],
   "source": [
    "mph=65"
   ]
  },
  {
   "cell_type": "code",
   "execution_count": null,
   "id": "20d460d5",
   "metadata": {},
   "outputs": [],
   "source": [
    "time=Total_distance/mph"
   ]
  },
  {
   "cell_type": "code",
   "execution_count": null,
   "id": "647cb6d9",
   "metadata": {},
   "outputs": [],
   "source": [
    "time"
   ]
  },
  {
   "cell_type": "code",
   "execution_count": null,
   "id": "60e29fd5",
   "metadata": {},
   "outputs": [],
   "source": [
    "round(time,2)"
   ]
  },
  {
   "cell_type": "code",
   "execution_count": null,
   "id": "a0fd41f8",
   "metadata": {},
   "outputs": [],
   "source": [
    "round(time)"
   ]
  },
  {
   "cell_type": "code",
   "execution_count": null,
   "id": "12cbaa99",
   "metadata": {},
   "outputs": [],
   "source": [
    "10+3*2 #BODMAS"
   ]
  },
  {
   "cell_type": "markdown",
   "id": "3054b21f",
   "metadata": {},
   "source": [
    "### String"
   ]
  },
  {
   "cell_type": "code",
   "execution_count": null,
   "id": "08a336de",
   "metadata": {},
   "outputs": [],
   "source": [
    "text=\"ice cream\""
   ]
  },
  {
   "cell_type": "code",
   "execution_count": null,
   "id": "153a34b6",
   "metadata": {},
   "outputs": [],
   "source": [
    "text[0]"
   ]
  },
  {
   "cell_type": "code",
   "execution_count": null,
   "id": "b160e591",
   "metadata": {},
   "outputs": [],
   "source": [
    "text[0:3]"
   ]
  },
  {
   "cell_type": "code",
   "execution_count": null,
   "id": "b0ae313e",
   "metadata": {},
   "outputs": [],
   "source": [
    "text[4:9]"
   ]
  },
  {
   "cell_type": "code",
   "execution_count": null,
   "id": "58fbc625",
   "metadata": {},
   "outputs": [],
   "source": [
    "text[4:]"
   ]
  },
  {
   "cell_type": "code",
   "execution_count": null,
   "id": "de315bdb",
   "metadata": {},
   "outputs": [],
   "source": [
    "x=\"hello\""
   ]
  },
  {
   "cell_type": "code",
   "execution_count": null,
   "id": "cdefc3b0",
   "metadata": {},
   "outputs": [],
   "source": [
    "x"
   ]
  },
  {
   "cell_type": "code",
   "execution_count": null,
   "id": "cdade3fb",
   "metadata": {},
   "outputs": [],
   "source": [
    "x=\"let's learn python\""
   ]
  },
  {
   "cell_type": "code",
   "execution_count": null,
   "id": "7d6d5607",
   "metadata": {},
   "outputs": [],
   "source": [
    "x"
   ]
  },
  {
   "cell_type": "code",
   "execution_count": null,
   "id": "4afb510b",
   "metadata": {},
   "outputs": [],
   "source": [
    "adress=\"\"\"Velekkat house\n",
    "Panamukku\n",
    "Thrissur\n",
    "kerala\"\"\""
   ]
  },
  {
   "cell_type": "code",
   "execution_count": null,
   "id": "2ba51160",
   "metadata": {},
   "outputs": [],
   "source": [
    "adress"
   ]
  },
  {
   "cell_type": "code",
   "execution_count": null,
   "id": "b87a1c6e",
   "metadata": {},
   "outputs": [],
   "source": [
    "s1= \"helllo\""
   ]
  },
  {
   "cell_type": "code",
   "execution_count": null,
   "id": "515fa6cd",
   "metadata": {},
   "outputs": [],
   "source": [
    "s2=\"world\""
   ]
  },
  {
   "cell_type": "code",
   "execution_count": null,
   "id": "af21f5b2",
   "metadata": {},
   "outputs": [],
   "source": [
    "s1+s2"
   ]
  },
  {
   "cell_type": "code",
   "execution_count": null,
   "id": "d1c9e091",
   "metadata": {},
   "outputs": [],
   "source": [
    "s1+\" \"+s2"
   ]
  },
  {
   "cell_type": "markdown",
   "id": "15537a05",
   "metadata": {},
   "source": [
    "### Data Structure"
   ]
  },
  {
   "cell_type": "markdown",
   "id": "24230c91",
   "metadata": {},
   "source": [
    "### List"
   ]
  },
  {
   "cell_type": "code",
   "execution_count": null,
   "id": "aaab0a9e",
   "metadata": {},
   "outputs": [],
   "source": [
    "brand_list =[\"Apple\",\"Samsung\",\"LG\",\"Apple\"]\n",
    "ram_list=[4,12,8,8]\n",
    "storage_list=[128,128,64,128]\n",
    "price_list=[900,899,600,1000]"
   ]
  },
  {
   "cell_type": "code",
   "execution_count": null,
   "id": "b1d99c0f",
   "metadata": {},
   "outputs": [],
   "source": [
    "type(brand_list)"
   ]
  },
  {
   "cell_type": "code",
   "execution_count": null,
   "id": "adac2b0b",
   "metadata": {},
   "outputs": [],
   "source": [
    "print(\"Brand list : \",brand_list)\n",
    "print(\"RAM list : \",ram_list)\n",
    "print(\"Storage list : \",storage_list)\n",
    "print(\"Price list : \",price_list)"
   ]
  },
  {
   "cell_type": "code",
   "execution_count": null,
   "id": "6a6540d2",
   "metadata": {},
   "outputs": [],
   "source": [
    "len(brand_list)"
   ]
  },
  {
   "cell_type": "code",
   "execution_count": null,
   "id": "5733dac5",
   "metadata": {},
   "outputs": [],
   "source": [
    "min_price=min(price_list)\n",
    "max_price=max(price_list)"
   ]
  },
  {
   "cell_type": "code",
   "execution_count": null,
   "id": "1cdf82c5",
   "metadata": {},
   "outputs": [],
   "source": [
    "print(\"The maximum price is $\"+str(max_price))"
   ]
  },
  {
   "cell_type": "code",
   "execution_count": null,
   "id": "aa1a619e",
   "metadata": {},
   "outputs": [],
   "source": [
    "print(\"The minimum price is $ \"+str(min_price))"
   ]
  },
  {
   "cell_type": "code",
   "execution_count": null,
   "id": "a53b9356",
   "metadata": {},
   "outputs": [],
   "source": [
    "print(ram_list[3])"
   ]
  },
  {
   "cell_type": "code",
   "execution_count": null,
   "id": "caa11a29",
   "metadata": {},
   "outputs": [],
   "source": [
    "price_list[0:3]"
   ]
  },
  {
   "cell_type": "code",
   "execution_count": null,
   "id": "c8bbe91d",
   "metadata": {},
   "outputs": [],
   "source": [
    "storage_list[-1]"
   ]
  },
  {
   "cell_type": "code",
   "execution_count": null,
   "id": "a5fce8f7",
   "metadata": {},
   "outputs": [],
   "source": [
    "storage_list.pop(2)"
   ]
  },
  {
   "cell_type": "code",
   "execution_count": null,
   "id": "94433c55",
   "metadata": {},
   "outputs": [],
   "source": [
    "storage_list"
   ]
  },
  {
   "cell_type": "code",
   "execution_count": null,
   "id": "97e54a23",
   "metadata": {},
   "outputs": [],
   "source": [
    "brand_list.append(\"Motorola\")"
   ]
  },
  {
   "cell_type": "code",
   "execution_count": null,
   "id": "9f663058",
   "metadata": {},
   "outputs": [],
   "source": [
    "brand_list"
   ]
  },
  {
   "cell_type": "code",
   "execution_count": null,
   "id": "10be1d75",
   "metadata": {},
   "outputs": [],
   "source": [
    "brand_list[3]=\"Motorola\""
   ]
  },
  {
   "cell_type": "code",
   "execution_count": null,
   "id": "598e79c0",
   "metadata": {},
   "outputs": [],
   "source": [
    "brand_list"
   ]
  },
  {
   "cell_type": "code",
   "execution_count": null,
   "id": "d1d02b1f",
   "metadata": {},
   "outputs": [],
   "source": [
    "brand_list[3]=\"Apple\""
   ]
  },
  {
   "cell_type": "code",
   "execution_count": null,
   "id": "27598e4e",
   "metadata": {},
   "outputs": [],
   "source": [
    "brand_list"
   ]
  },
  {
   "cell_type": "code",
   "execution_count": null,
   "id": "1e5d1218",
   "metadata": {},
   "outputs": [],
   "source": [
    "brand_list.append(\"LG\")"
   ]
  },
  {
   "cell_type": "code",
   "execution_count": null,
   "id": "a1a57177",
   "metadata": {},
   "outputs": [],
   "source": [
    "brand_list"
   ]
  },
  {
   "cell_type": "code",
   "execution_count": null,
   "id": "5863af99",
   "metadata": {},
   "outputs": [],
   "source": [
    "brand_list[1]=\"LG\""
   ]
  },
  {
   "cell_type": "code",
   "execution_count": null,
   "id": "daa4b411",
   "metadata": {},
   "outputs": [],
   "source": [
    "brand_list"
   ]
  },
  {
   "cell_type": "markdown",
   "id": "e3f3de54",
   "metadata": {},
   "source": [
    "### Tuple"
   ]
  },
  {
   "cell_type": "code",
   "execution_count": null,
   "id": "2682bee6",
   "metadata": {},
   "outputs": [],
   "source": [
    "storage=(32,64,128,256)"
   ]
  },
  {
   "cell_type": "code",
   "execution_count": null,
   "id": "f9b43875",
   "metadata": {},
   "outputs": [],
   "source": [
    "print(storage)"
   ]
  },
  {
   "cell_type": "code",
   "execution_count": null,
   "id": "6f0ef5c9",
   "metadata": {},
   "outputs": [],
   "source": [
    "type(storage)"
   ]
  },
  {
   "cell_type": "code",
   "execution_count": null,
   "id": "cab0085a",
   "metadata": {},
   "outputs": [],
   "source": [
    "storage[1]"
   ]
  },
  {
   "cell_type": "code",
   "execution_count": null,
   "id": "fd8dac02",
   "metadata": {},
   "outputs": [],
   "source": [
    "storage[0:3]"
   ]
  },
  {
   "cell_type": "code",
   "execution_count": null,
   "id": "abb096a1",
   "metadata": {},
   "outputs": [],
   "source": [
    "storage[-1]"
   ]
  },
  {
   "cell_type": "markdown",
   "id": "9d62daf4",
   "metadata": {},
   "source": [
    "### Dictionary"
   ]
  },
  {
   "cell_type": "code",
   "execution_count": null,
   "id": "3d1d0714",
   "metadata": {},
   "outputs": [],
   "source": [
    "attributes={\n",
    "    \"brand\":\"apple\",\n",
    "     \"storage\":32,\n",
    "    \"ram\":12}"
   ]
  },
  {
   "cell_type": "code",
   "execution_count": null,
   "id": "1d824492",
   "metadata": {},
   "outputs": [],
   "source": [
    "attributes"
   ]
  },
  {
   "cell_type": "code",
   "execution_count": null,
   "id": "9302b2ce",
   "metadata": {},
   "outputs": [],
   "source": [
    "attributes[\"brand\"]"
   ]
  },
  {
   "cell_type": "code",
   "execution_count": null,
   "id": "2c4d11b8",
   "metadata": {},
   "outputs": [],
   "source": [
    "attributes[\"price\"]=900"
   ]
  },
  {
   "cell_type": "code",
   "execution_count": null,
   "id": "14ba9fc7",
   "metadata": {},
   "outputs": [],
   "source": [
    "attributes"
   ]
  },
  {
   "cell_type": "markdown",
   "id": "abf8c3c4",
   "metadata": {},
   "source": [
    "### For loop"
   ]
  },
  {
   "cell_type": "code",
   "execution_count": null,
   "id": "5ff96f79",
   "metadata": {},
   "outputs": [],
   "source": [
    "# print 1 to 10 (Range Function)\n",
    "for i in range (1,11):\n",
    "    print(i)"
   ]
  },
  {
   "cell_type": "code",
   "execution_count": null,
   "id": "c18117ae",
   "metadata": {},
   "outputs": [],
   "source": [
    "for i in range (1,11):\n",
    " print(i*i)"
   ]
  },
  {
   "cell_type": "code",
   "execution_count": null,
   "id": "bfd76c82",
   "metadata": {},
   "outputs": [],
   "source": [
    "exp=[2340,2450,3100,2860,3000]\n",
    "total=0\n",
    "for i in exp:\n",
    "    total=total + i\n",
    "print(total)\n",
    "    "
   ]
  },
  {
   "cell_type": "code",
   "execution_count": null,
   "id": "b99e08ca",
   "metadata": {},
   "outputs": [],
   "source": [
    "exp=[2340,2450,3100,2860,3000]\n",
    "total=0\n",
    "for i in exp:\n",
    "    total=total+i\n",
    "print(total)"
   ]
  },
  {
   "cell_type": "code",
   "execution_count": null,
   "id": "2385210c",
   "metadata": {},
   "outputs": [],
   "source": [
    "### print 1 to 10 using for loop"
   ]
  },
  {
   "cell_type": "code",
   "execution_count": null,
   "id": "7374d316",
   "metadata": {
    "scrolled": true
   },
   "outputs": [],
   "source": [
    "for i in range(1,11):\n",
    "    print(i)"
   ]
  },
  {
   "cell_type": "code",
   "execution_count": null,
   "id": "5e39720e",
   "metadata": {},
   "outputs": [],
   "source": [
    "for i in range (1,11):\n",
    "    print(i*i)"
   ]
  },
  {
   "cell_type": "code",
   "execution_count": null,
   "id": "b79e025d",
   "metadata": {},
   "outputs": [],
   "source": [
    "len(exp)"
   ]
  },
  {
   "cell_type": "code",
   "execution_count": null,
   "id": "c482b84a",
   "metadata": {},
   "outputs": [],
   "source": [
    "total = 0\n",
    "for i in range(len(exp)):\n",
    "    print(\"Month:\", i+1, \"Expenses:\", exp[i])\n",
    "    total = total+exp[i]\n",
    "print(total)"
   ]
  },
  {
   "cell_type": "code",
   "execution_count": null,
   "id": "e2fc8d34",
   "metadata": {},
   "outputs": [],
   "source": [
    "key_place=\"chair\"\n",
    "locations=[\"garage\",\"living room\",\"study room\",\"chair\",\"closet\"]\n",
    "for i in locations:\n",
    "    if i == \"chair\":\n",
    "        print(\"The key is found in\",i)\n",
    "        break\n",
    "    else:\n",
    "        print(\"The key is not found in\",i)"
   ]
  },
  {
   "cell_type": "code",
   "execution_count": null,
   "id": "262df55a",
   "metadata": {},
   "outputs": [],
   "source": [
    "# print square of 1 to 5 numbers except even numbers"
   ]
  },
  {
   "cell_type": "code",
   "execution_count": null,
   "id": "84886d1e",
   "metadata": {},
   "outputs": [],
   "source": [
    "for i in range(1,7):\n",
    "    if i%2==0:\n",
    "        continue\n",
    "    print(i*i)\n"
   ]
  },
  {
   "cell_type": "markdown",
   "id": "36382d6e",
   "metadata": {},
   "source": [
    "### Functions"
   ]
  },
  {
   "cell_type": "code",
   "execution_count": null,
   "id": "adb2217f",
   "metadata": {},
   "outputs": [],
   "source": [
    "def addition(a,b):\n",
    "    total = a+b\n",
    "    return total\n",
    "addition(4,3)"
   ]
  },
  {
   "cell_type": "code",
   "execution_count": null,
   "id": "31964628",
   "metadata": {},
   "outputs": [],
   "source": [
    "# Check whether x is even or odd"
   ]
  },
  {
   "cell_type": "code",
   "execution_count": null,
   "id": "7fd260e7",
   "metadata": {},
   "outputs": [],
   "source": [
    "def even_or_odd(n):\n",
    "    if n%2==0:\n",
    "        print(\"even\")\n",
    "    else:\n",
    "        print(\"odd\")\n",
    "even_or_odd(3)\n",
    "even_or_odd(4)"
   ]
  },
  {
   "cell_type": "code",
   "execution_count": null,
   "id": "cf1f7c95",
   "metadata": {},
   "outputs": [],
   "source": [
    "def square_value(n):\n",
    "    x=n*n\n",
    "    return x\n",
    "square_value(2)"
   ]
  },
  {
   "cell_type": "markdown",
   "id": "e6b1f29d",
   "metadata": {},
   "source": [
    "#### Creating a Function in Python"
   ]
  },
  {
   "cell_type": "code",
   "execution_count": null,
   "id": "d8112e9c",
   "metadata": {},
   "outputs": [],
   "source": [
    "def function():\n",
    "    print(\"WElcome to my home\")\n",
    "function()"
   ]
  },
  {
   "cell_type": "markdown",
   "id": "1f7536ff",
   "metadata": {},
   "source": [
    "#### Arguments\n",
    "Information can be passed into functions as arguments.\n",
    "\n",
    "Arguments are specified after the function name, inside the parentheses. You can add as many arguments as you want, just separate them with a comma.\n",
    "\n",
    "The following example has a function with one argument (fname). When the function is called, we pass along a first name, which is used inside the function to print the full name:"
   ]
  },
  {
   "cell_type": "code",
   "execution_count": null,
   "id": "a05dd966",
   "metadata": {},
   "outputs": [],
   "source": [
    "def my_function(fnname):\n",
    "    print(fnname,\" \",\"Refences\")\n",
    "my_function(\"Rose\")\n",
    "my_function(\"Merry\")\n",
    "my_function(\"catherin\")"
   ]
  },
  {
   "cell_type": "markdown",
   "id": "ed9851c0",
   "metadata": {},
   "source": [
    "### If statement"
   ]
  },
  {
   "cell_type": "code",
   "execution_count": null,
   "id": "111e8dff",
   "metadata": {},
   "outputs": [],
   "source": [
    "num=input(\"Enter a number: \")\n",
    "num=int(num)\n",
    "if num % 2==0:\n",
    "    print(\"Number is even\")\n",
    "else:\n",
    "    print(\"Number is odd\")"
   ]
  },
  {
   "cell_type": "code",
   "execution_count": null,
   "id": "c3a10900",
   "metadata": {},
   "outputs": [],
   "source": [
    "indian=[\"samosa\",\"daal\",\"naan\"]\n",
    "chinese=[\"egg role\",\"pot sticker\",\"fried rice\"]\n",
    "italian =[\"pizza\",\"pasta\",\"risotto\"]\n",
    "dish = input(\"Enter your favorite dish: \")\n",
    "if dish in indian:\n",
    "    print(\"The dish is indian\")\n",
    "elif dish in chinese:\n",
    "    print(\"The dish is chinese\")\n",
    "elif dish in italian:\n",
    "    print(\"The dish is italian\")\n",
    "else:\n",
    "    print(\"Based on little knowlwedge we dont know which cuisine is this\")"
   ]
  },
  {
   "cell_type": "markdown",
   "id": "f477fd2f",
   "metadata": {},
   "source": [
    "### Find 2nd maximum from list"
   ]
  },
  {
   "cell_type": "code",
   "execution_count": 58,
   "id": "aa026701",
   "metadata": {},
   "outputs": [
    {
     "name": "stdout",
     "output_type": "stream",
     "text": [
      "19\n"
     ]
    }
   ],
   "source": [
    "number_list=[5,8,19,19,20,20]\n",
    "number_list.sort(reverse=True)\n",
    "list_length=len(number_list)\n",
    "for i in range(0,list_length):\n",
    "    if number_list[i]== number_list[i+1]:\n",
    "        continue\n",
    "    else:\n",
    "        print(number_list[i+1])\n",
    "        break"
   ]
  },
  {
   "cell_type": "markdown",
   "id": "df6b8068",
   "metadata": {},
   "source": [
    "### Calculator"
   ]
  },
  {
   "cell_type": "code",
   "execution_count": null,
   "id": "260cd2ad",
   "metadata": {},
   "outputs": [],
   "source": [
    "def cal_sum(a,b):\n",
    "    added = a+b\n",
    "    return(added)\n",
    "    \n",
    "def cal_sub(a,b):\n",
    "    sub = a-b\n",
    "    return(sub)\n",
    "    \n",
    "def cal_multi(a,b):\n",
    "    multi =a*b\n",
    "    return(multi) \n",
    "    \n",
    "def cal_div(a,b):\n",
    "    div =a/b\n",
    "    return(div)\n",
    "\n",
    "a=int(input(\"Enter the value of a\"))\n",
    "b=int(input(\"Enter the value of b\"))\n",
    "\n",
    "print(\"Enter option\")\n",
    "print(\"press 1 for sum\")\n",
    "print(\"press 2 for sub\")\n",
    "print(\"press 3 for multi\")\n",
    "print(\"press 4 for div\")\n",
    "\n",
    "option = int(input(\"Your option\"))\n",
    "\n",
    "if option == 1:\n",
    "    print(\"Your sum is: \", cal_sum(a,b))\n",
    "elif option == 2:\n",
    "    print(\"Your sub is: \", cal_sub(a,b))\n",
    "elif option == 3:\n",
    "    print(\"Your multiplication is: \", cal_multi(a,b))\n",
    "elif option == 4:\n",
    "    print(\"Your division is: \", cal_div(a,b))\n",
    "else:\n",
    "    print(\"Invalid Option\")"
   ]
  },
  {
   "cell_type": "markdown",
   "id": "243fa386",
   "metadata": {},
   "source": [
    "### While loop"
   ]
  },
  {
   "cell_type": "code",
   "execution_count": null,
   "id": "ff0e8add",
   "metadata": {},
   "outputs": [],
   "source": [
    "i=0"
   ]
  },
  {
   "cell_type": "code",
   "execution_count": null,
   "id": "b0894ae9",
   "metadata": {},
   "outputs": [],
   "source": [
    "n=int(input())\n",
    "while n>0:\n",
    "    print(\"#\")\n",
    "    n=n-1"
   ]
  },
  {
   "cell_type": "code",
   "execution_count": null,
   "id": "b04d9b80",
   "metadata": {},
   "outputs": [],
   "source": [
    "while i<list_length:\n",
    "    if number_list[i]== number_list[i+1]:\n",
    "        i=i+1\n",
    "        continue\n",
    "    else:\n",
    "        print(number_list[i+1])\n",
    "        break"
   ]
  },
  {
   "cell_type": "code",
   "execution_count": null,
   "id": "02f84630",
   "metadata": {},
   "outputs": [],
   "source": [
    "n=int(input())\n",
    "i=1\n",
    "total=0\n",
    "while i<=n:\n",
    "    if n<=10:\n",
    "        total=total+i\n",
    "        i=i+1\n",
    "    else:\n",
    "        print(\"Can not do this calculation\")\n",
    "        break\n",
    "print(total)"
   ]
  },
  {
   "cell_type": "markdown",
   "id": "649e2ce8",
   "metadata": {},
   "source": [
    "### Find the factorial"
   ]
  },
  {
   "cell_type": "code",
   "execution_count": null,
   "id": "92ceabbf",
   "metadata": {},
   "outputs": [],
   "source": [
    "n=int(input())\n",
    "if n==0 or n>100:\n",
    "    print('Can not find factorial')\n",
    "else:\n",
    "    i=1\n",
    "    total=1\n",
    "    while i<=n:\n",
    "        total=i*total\n",
    "        i=i+1\n",
    "    print(total)"
   ]
  },
  {
   "cell_type": "markdown",
   "id": "78b99ebf",
   "metadata": {},
   "source": [
    "### Fibonacci series"
   ]
  },
  {
   "cell_type": "code",
   "execution_count": null,
   "id": "fecd2e22",
   "metadata": {},
   "outputs": [],
   "source": [
    "def fibonacci(n):\n",
    "    num1=0\n",
    "    num2=1\n",
    "    next_num=num1+num2\n",
    "    i=1\n",
    "    print(\"Fibonacci series is\")\n",
    "    print(num1, end=\" \")\n",
    "    print(num2, end=\" \")\n",
    "\n",
    "    while i<=n:\n",
    "        print(next_num,end=\" \")\n",
    "        num1,num2 = num2, next_num\n",
    "        next_num=num1 + num2\n",
    "        i+=1\n",
    "    print(\"End of function\")\n",
    "\n",
    "k= int(input())\n",
    "\n",
    "if k<1:\n",
    "    print(\"Can not find the fibonacci series\")\n",
    "else:\n",
    "    fibonacci(k) \n",
    "print(\"The End\")"
   ]
  },
  {
   "cell_type": "markdown",
   "id": "03d97c6d",
   "metadata": {},
   "source": [
    "### Python Program to Check Prime Number"
   ]
  },
  {
   "cell_type": "code",
   "execution_count": null,
   "id": "eaaf94f4",
   "metadata": {},
   "outputs": [],
   "source": [
    "num = int(input())\n",
    "flag=False\n",
    "if num == 1:\n",
    "    print(num,\"is not a prime number\")\n",
    "else:\n",
    "    for i in range(2,num):\n",
    "        if num%i==0:\n",
    "            flag=True\n",
    "            break\n",
    "    if flag==True:\n",
    "        print(num,\"is not a prime number\")\n",
    "    else:\n",
    "        print(num, \"is a prime number\")"
   ]
  },
  {
   "cell_type": "code",
   "execution_count": null,
   "id": "5696a1d7",
   "metadata": {},
   "outputs": [],
   "source": [
    "num=int(input())\n",
    "flag=False\n",
    "if num==1:\n",
    "    print(num,\"is not a prime number\")\n",
    "else:\n",
    "    for i in range(2,num):\n",
    "        if num%i==0:\n",
    "            flag=True\n",
    "            break\n",
    "    if flag==True:\n",
    "        print(num, \"is not a prime prime number\")\n",
    "    else:\n",
    "        print(num, \"is a prime number\")"
   ]
  },
  {
   "cell_type": "code",
   "execution_count": null,
   "id": "8da93b89",
   "metadata": {},
   "outputs": [],
   "source": [
    "num = int(input())\n",
    "flag=False\n",
    "if num==1:\n",
    "    print(num,\"is not a prime number\")\n",
    "else:\n",
    "    for i in range(2,num):\n",
    "        if num%i==0:\n",
    "            flag= True\n",
    "            break\n",
    "    if flag== True:\n",
    "        print(num,\"is not a prime number\")\n",
    "    else:\n",
    "        print(num, \"is a prime number\")"
   ]
  },
  {
   "cell_type": "code",
   "execution_count": 2,
   "id": "e1053627",
   "metadata": {},
   "outputs": [
    {
     "name": "stdout",
     "output_type": "stream",
     "text": [
      "5\n",
      "The Fibonacci series is:\n",
      "0 1 1 2 3 "
     ]
    }
   ],
   "source": [
    "n=int(input())\n",
    "num1=0\n",
    "num2=1\n",
    "next_num=num1+num2\n",
    "print(\"The Fibonacci series is:\")\n",
    "print(num1,end=\" \")\n",
    "print(num2,end=\" \")\n",
    "for i in range(3,n+1):\n",
    "    print(next_num,end=\" \")\n",
    "    num1=num2\n",
    "    num2=next_num\n",
    "    next_num=num1+num2"
   ]
  },
  {
   "cell_type": "code",
   "execution_count": null,
   "id": "2810b420",
   "metadata": {},
   "outputs": [],
   "source": [
    "n=int(input())\n",
    "num1=0\n",
    "num2=1\n",
    "next_num=num1+num2\n",
    "print(\"The fibonacci series is:\")\n",
    "print(num1,end=\" \")\n",
    "print(num2,end=\" \")\n",
    "print(next_num, end=\" \")\n",
    "for i in range(3,n):\n",
    "    num1=num2\n",
    "    num2=next_num\n",
    "    next_num=num1+num2\n",
    "    print(next_num,end=\" \")"
   ]
  },
  {
   "cell_type": "code",
   "execution_count": null,
   "id": "e77c62e3",
   "metadata": {},
   "outputs": [],
   "source": [
    "for i in  range(1,11):\n",
    "    print(i)"
   ]
  },
  {
   "cell_type": "code",
   "execution_count": null,
   "id": "a408d4fe",
   "metadata": {},
   "outputs": [],
   "source": [
    "i=1\n",
    "while i<=10:\n",
    "    \n",
    "    i=i+1\n",
    "    print(i)\n",
    "    "
   ]
  },
  {
   "cell_type": "markdown",
   "id": "469d33ae",
   "metadata": {},
   "source": [
    "### Fibonacci series"
   ]
  },
  {
   "cell_type": "code",
   "execution_count": 1,
   "id": "969829f3",
   "metadata": {},
   "outputs": [
    {
     "name": "stdout",
     "output_type": "stream",
     "text": [
      "5\n",
      "The Fibonacci series is:\n"
     ]
    },
    {
     "ename": "NameError",
     "evalue": "name 'num1' is not defined",
     "output_type": "error",
     "traceback": [
      "\u001b[1;31m---------------------------------------------------------------------------\u001b[0m",
      "\u001b[1;31mNameError\u001b[0m                                 Traceback (most recent call last)",
      "Cell \u001b[1;32mIn[1], line 3\u001b[0m\n\u001b[0;32m      1\u001b[0m n\u001b[38;5;241m=\u001b[39m\u001b[38;5;28mint\u001b[39m(\u001b[38;5;28minput\u001b[39m())\n\u001b[0;32m      2\u001b[0m \u001b[38;5;28mprint\u001b[39m(\u001b[38;5;124m\"\u001b[39m\u001b[38;5;124mThe Fibonacci series is:\u001b[39m\u001b[38;5;124m\"\u001b[39m)\n\u001b[1;32m----> 3\u001b[0m \u001b[38;5;28mprint\u001b[39m(num1,end\u001b[38;5;241m=\u001b[39m\u001b[38;5;124m\"\u001b[39m\u001b[38;5;124m \u001b[39m\u001b[38;5;124m\"\u001b[39m)\n\u001b[0;32m      4\u001b[0m \u001b[38;5;28mprint\u001b[39m(num2,end\u001b[38;5;241m=\u001b[39m\u001b[38;5;124m\"\u001b[39m\u001b[38;5;124m \u001b[39m\u001b[38;5;124m\"\u001b[39m)\n\u001b[0;32m      5\u001b[0m \u001b[38;5;28mprint\u001b[39m(next_num,end\u001b[38;5;241m=\u001b[39m\u001b[38;5;124m\"\u001b[39m\u001b[38;5;124m \u001b[39m\u001b[38;5;124m\"\u001b[39m)\n",
      "\u001b[1;31mNameError\u001b[0m: name 'num1' is not defined"
     ]
    }
   ],
   "source": [
    "n=int(input())\n",
    "print(\"The Fibonacci series is:\")\n",
    "print(num1,end=\" \")\n",
    "print(num2,end=\" \")\n",
    "print(next_num,end=\" \")\n",
    "for i in range (4,n+1):\n",
    "    num1=num2\n",
    "    num2=next_num\n",
    "    next_num=num1+num2\n",
    "    print(next_num,end=\" \")"
   ]
  },
  {
   "cell_type": "markdown",
   "id": "2aea6365",
   "metadata": {},
   "source": [
    "### Prime Number"
   ]
  },
  {
   "cell_type": "code",
   "execution_count": 5,
   "id": "13d06117",
   "metadata": {},
   "outputs": [
    {
     "name": "stdout",
     "output_type": "stream",
     "text": [
      "11\n",
      "11 is a prime number\n"
     ]
    }
   ],
   "source": [
    "n=int(input())\n",
    "flag=False\n",
    "i=2\n",
    "while i<n:\n",
    "    if n%i==0:\n",
    "        flag=True\n",
    "        break\n",
    "    i=i+1\n",
    "if flag==True:\n",
    "    print(n,\"is not a prime number\")\n",
    "else:\n",
    "    print(n,\"is a prime number\")"
   ]
  },
  {
   "cell_type": "markdown",
   "id": "3f7dd44f",
   "metadata": {},
   "source": [
    "### Counting Vowels in a Given Word"
   ]
  },
  {
   "cell_type": "code",
   "execution_count": 11,
   "id": "aa406c08",
   "metadata": {},
   "outputs": [
    {
     "name": "stdout",
     "output_type": "stream",
     "text": [
      "4\n"
     ]
    }
   ],
   "source": [
    "vowel=[\"a\",\"e\",\"i\",\"o\",\"u\"]\n",
    "word= \"anaswara\"\n",
    "count=0\n",
    "for i in word:\n",
    "    if i in vowel:\n",
    "        count=count+1\n",
    "print(count)"
   ]
  },
  {
   "cell_type": "code",
   "execution_count": 13,
   "id": "457f5816",
   "metadata": {},
   "outputs": [
    {
     "name": "stdout",
     "output_type": "stream",
     "text": [
      "9\n"
     ]
    }
   ],
   "source": [
    "vowel=[\"a\",\"e\",\"i\",\"o\",\"u\"]\n",
    "word= \"anaswararthjk\"\n",
    "count=0\n",
    "for i in word:\n",
    "    if i not in vowel:\n",
    "        count=count+1\n",
    "print(count)"
   ]
  },
  {
   "cell_type": "markdown",
   "id": "fcf45f8f",
   "metadata": {},
   "source": [
    "### Finding the Maximum Number in a List"
   ]
  },
  {
   "cell_type": "code",
   "execution_count": 15,
   "id": "7e550c66",
   "metadata": {},
   "outputs": [
    {
     "name": "stdout",
     "output_type": "stream",
     "text": [
      "125\n"
     ]
    }
   ],
   "source": [
    "numberList = [15, 85, 35, 89, 125]\n",
    "max_num=numberList[0]\n",
    "for number in numberList:\n",
    "    if max_num<number:\n",
    "        max_num=number\n",
    "print(max_num)"
   ]
  },
  {
   "cell_type": "markdown",
   "id": "d68bc56a",
   "metadata": {},
   "source": [
    "### Finding the Minimum Number in a List"
   ]
  },
  {
   "cell_type": "code",
   "execution_count": 17,
   "id": "8b8fdd0f",
   "metadata": {},
   "outputs": [
    {
     "name": "stdout",
     "output_type": "stream",
     "text": [
      "14\n"
     ]
    }
   ],
   "source": [
    "numberList = [15, 85, 14, 89, 125]\n",
    "min_number=numberList[0]\n",
    "for number in numberList:\n",
    "    if number<min_number:\n",
    "        min_number=number\n",
    "print(min_number)"
   ]
  },
  {
   "cell_type": "markdown",
   "id": "551e7d03",
   "metadata": {},
   "source": [
    "### Finding the Middle Element in a List"
   ]
  },
  {
   "cell_type": "code",
   "execution_count": 25,
   "id": "9753aa90",
   "metadata": {},
   "outputs": [
    {
     "name": "stdout",
     "output_type": "stream",
     "text": [
      "3\n"
     ]
    }
   ],
   "source": [
    "numList = [1, 2, 3, 4, 5]\n",
    "mid_element=int(len(numList)/2)\n",
    "print(numList[mid_element])"
   ]
  },
  {
   "cell_type": "code",
   "execution_count": 38,
   "id": "30bece8b",
   "metadata": {},
   "outputs": [
    {
     "data": {
      "text/plain": [
       "'dcba'"
      ]
     },
     "execution_count": 38,
     "metadata": {},
     "output_type": "execute_result"
    }
   ],
   "source": [
    "'abcd'[::-1]"
   ]
  },
  {
   "cell_type": "markdown",
   "id": "3133a30c",
   "metadata": {},
   "source": [
    "### Checking for Palindrome Using Extended Slicing Technique"
   ]
  },
  {
   "cell_type": "code",
   "execution_count": 40,
   "id": "451925f3",
   "metadata": {},
   "outputs": [
    {
     "name": "stdout",
     "output_type": "stream",
     "text": [
      "True\n"
     ]
    }
   ],
   "source": [
    "str1=\"kayak\".lower()\n",
    "str2=\"kayak\".lower()\n",
    "if str1==str2[::-1]:\n",
    "    print(\"True\")\n",
    "else:\n",
    "    print(\"False\")"
   ]
  },
  {
   "cell_type": "markdown",
   "id": "86962aea",
   "metadata": {},
   "source": [
    "### Converting a List into a String"
   ]
  },
  {
   "cell_type": "code",
   "execution_count": 43,
   "id": "a9ca3880",
   "metadata": {},
   "outputs": [
    {
     "name": "stdout",
     "output_type": "stream",
     "text": [
      "PYTHON\n"
     ]
    }
   ],
   "source": [
    "lst=[\"P\",\"Y\",\"T\",\"H\",\"O\",\"N\"]\n",
    "STR=\"\".join(lst)\n",
    "print(STR)"
   ]
  },
  {
   "cell_type": "markdown",
   "id": "75c9406b",
   "metadata": {},
   "source": [
    "### Adding Two List Elements Together"
   ]
  },
  {
   "cell_type": "code",
   "execution_count": 47,
   "id": "d6a72474",
   "metadata": {},
   "outputs": [
    {
     "name": "stdout",
     "output_type": "stream",
     "text": [
      "[6, 8, 10]\n"
     ]
    }
   ],
   "source": [
    "lst1=[1,2,3]\n",
    "lst2=[5,6,7]\n",
    "length=len(lst1)\n",
    "res_lst=[]\n",
    "for i in range(0,length):\n",
    "    res_lst.append(lst1[i]+lst2[i])\n",
    "print(res_lst)"
   ]
  },
  {
   "cell_type": "markdown",
   "id": "fcb487c2",
   "metadata": {},
   "source": [
    "### Counting the White Spaces in a String"
   ]
  },
  {
   "cell_type": "code",
   "execution_count": 48,
   "id": "f27e7a66",
   "metadata": {},
   "outputs": [
    {
     "name": "stdout",
     "output_type": "stream",
     "text": [
      "5\n"
     ]
    }
   ],
   "source": [
    "string = \"P r ogramm in g \"\n",
    "print()"
   ]
  },
  {
   "cell_type": "markdown",
   "id": "4cc38aa0",
   "metadata": {},
   "source": [
    "### Building a Pyramid in Python"
   ]
  },
  {
   "cell_type": "code",
   "execution_count": 1,
   "id": "8a466846",
   "metadata": {},
   "outputs": [
    {
     "name": "stdout",
     "output_type": "stream",
     "text": [
      "5\n",
      "* \n",
      "* * \n",
      "* * * \n",
      "* * * * \n",
      "* * * * * \n"
     ]
    }
   ],
   "source": [
    "rows=int(input())\n",
    "for i in range(0,rows):\n",
    "    for j in range(0,i+1):\n",
    "        print(\"*\",end=\" \")\n",
    "    print()"
   ]
  },
  {
   "cell_type": "markdown",
   "id": "7891b4be",
   "metadata": {},
   "source": [
    "### find the factorial"
   ]
  },
  {
   "cell_type": "code",
   "execution_count": 1,
   "id": "10b7d57c",
   "metadata": {},
   "outputs": [
    {
     "name": "stdout",
     "output_type": "stream",
     "text": [
      "5\n",
      "120\n"
     ]
    }
   ],
   "source": [
    "n=int(input())\n",
    "i=1\n",
    "total=1\n",
    "while i<=n:\n",
    "    total=total*i\n",
    "    i=i+1\n",
    "print(total)"
   ]
  },
  {
   "cell_type": "code",
   "execution_count": 8,
   "id": "539b655c",
   "metadata": {},
   "outputs": [
    {
     "name": "stdout",
     "output_type": "stream",
     "text": [
      "True\n"
     ]
    }
   ],
   "source": [
    "string1= \"malayalam\"\n",
    "if string1==string1[::-1]:\n",
    "    print(True)\n",
    "else:\n",
    "    print(False)"
   ]
  },
  {
   "cell_type": "code",
   "execution_count": 26,
   "id": "4f8978a8",
   "metadata": {},
   "outputs": [
    {
     "name": "stdout",
     "output_type": "stream",
     "text": [
      "True\n"
     ]
    }
   ],
   "source": [
    "string1=\"malayalam\"\n",
    "rev=\"\"\n",
    "i=-1\n",
    "while(i>=-9):\n",
    "    rev = rev + string1[i]\n",
    "    i = i-1\n",
    "if string1==rev:\n",
    "    print(True)\n",
    "else:\n",
    "    print(False)"
   ]
  },
  {
   "cell_type": "code",
   "execution_count": 36,
   "id": "a505266d",
   "metadata": {},
   "outputs": [
    {
     "name": "stdout",
     "output_type": "stream",
     "text": [
      "True\n",
      "True\n",
      "True\n",
      "True\n",
      "False\n",
      "False\n",
      "True\n",
      "True\n",
      "True\n",
      "True\n"
     ]
    }
   ],
   "source": [
    "string1=\"malay4alam\"\n",
    "max_index=len(string1)-1\n",
    "\n",
    "for i in range(0,len(string1)):\n",
    "    if string1[i]==string1[max_index-i]:\n",
    "       print(True)\n",
    "    else:\n",
    "        print(False)"
   ]
  },
  {
   "cell_type": "code",
   "execution_count": 40,
   "id": "ffe36c35",
   "metadata": {},
   "outputs": [
    {
     "name": "stdout",
     "output_type": "stream",
     "text": [
      "It is a palindrome\n"
     ]
    }
   ],
   "source": [
    "string1=\"malayalam\"\n",
    "max_index=len(string1)-1\n",
    "flag=True\n",
    "for i in range(0,len(string1)):\n",
    "    if string1[i]!=string1[max_index-i]:\n",
    "        flag=False\n",
    "        break\n",
    "if flag==False:\n",
    "    print(\"it is not a Palindrome\")\n",
    "else:\n",
    "    print(\"It is a palindrome\")"
   ]
  },
  {
   "cell_type": "code",
   "execution_count": 45,
   "id": "fe7cb954",
   "metadata": {},
   "outputs": [
    {
     "name": "stdout",
     "output_type": "stream",
     "text": [
      "Not a paliondrome\n"
     ]
    }
   ],
   "source": [
    "string=\"malay1alam\"\n",
    "max_index=len(string)-1\n",
    "Flag=False\n",
    "for i in range(0,len(string)):\n",
    "    if string[i]==string[max_index-i]:\n",
    "        flag=True\n",
    "        continue\n",
    "    else:\n",
    "        flag=False\n",
    "        break\n",
    "if flag==True:\n",
    "    print(\"It is a Palindrome\")\n",
    "else:\n",
    "    print(\"Not a paliondrome\")"
   ]
  },
  {
   "cell_type": "code",
   "execution_count": 48,
   "id": "078de1ff",
   "metadata": {},
   "outputs": [],
   "source": [
    "lst=[12,13,14,15,16]\n",
    "lst.sort(reverse=True)"
   ]
  },
  {
   "cell_type": "code",
   "execution_count": 49,
   "id": "9b4aa91f",
   "metadata": {},
   "outputs": [
    {
     "data": {
      "text/plain": [
       "[16, 15, 14, 13, 12]"
      ]
     },
     "execution_count": 49,
     "metadata": {},
     "output_type": "execute_result"
    }
   ],
   "source": [
    "lst"
   ]
  },
  {
   "cell_type": "code",
   "execution_count": 51,
   "id": "a471c70f",
   "metadata": {},
   "outputs": [
    {
     "data": {
      "text/plain": [
       "15"
      ]
     },
     "execution_count": 51,
     "metadata": {},
     "output_type": "execute_result"
    }
   ],
   "source": [
    "lst[1]"
   ]
  },
  {
   "cell_type": "code",
   "execution_count": 64,
   "id": "9b4e7b42",
   "metadata": {},
   "outputs": [],
   "source": [
    "Friend=\"Akhil\""
   ]
  },
  {
   "cell_type": "code",
   "execution_count": 65,
   "id": "02e426c9",
   "metadata": {},
   "outputs": [
    {
     "data": {
      "text/plain": [
       "'A'"
      ]
     },
     "execution_count": 65,
     "metadata": {},
     "output_type": "execute_result"
    }
   ],
   "source": [
    "Friend[0]"
   ]
  },
  {
   "cell_type": "code",
   "execution_count": 63,
   "id": "8063fec5",
   "metadata": {},
   "outputs": [
    {
     "data": {
      "text/plain": [
       "['Akhil TN', 'Anaswara', 'Anu', 'Achu']"
      ]
     },
     "execution_count": 63,
     "metadata": {},
     "output_type": "execute_result"
    }
   ],
   "source": [
    "Friends"
   ]
  },
  {
   "cell_type": "code",
   "execution_count": 80,
   "id": "dd8f4792",
   "metadata": {},
   "outputs": [
    {
     "name": "stdout",
     "output_type": "stream",
     "text": [
      "{'Akhil TN': 1, 'Anaswara': 2, 'Anu': 3, 'Achu': 3}\n"
     ]
    }
   ],
   "source": [
    "count={}\n",
    "Friends=['Akhil TN', 'Anaswara', 'Anu', 'Achu','Anaswara', 'Anu', 'Achu','Anu', 'Achu']\n",
    "for friend in Friends:\n",
    "    if friend in count:\n",
    "        count[friend]=count[friend]+1\n",
    "    else:\n",
    "        count[friend]=1\n",
    "print(count)"
   ]
  },
  {
   "cell_type": "code",
   "execution_count": 81,
   "id": "98d900d9",
   "metadata": {},
   "outputs": [
    {
     "name": "stdout",
     "output_type": "stream",
     "text": [
      "{'Akhil TN': 1, 'Anaswara': 2, 'Anu': 3, 'Achu': 3}\n"
     ]
    }
   ],
   "source": [
    "count={}\n",
    "Friends=['Akhil TN', 'Anaswara', 'Anu', 'Achu','Anaswara', 'Anu', 'Achu','Anu', 'Achu']\n",
    "for friend in Friends:\n",
    "    current_value=count.get(friend,0)\n",
    "    current_value=current_value+1\n",
    "    count[friend]=current_value\n",
    "print(count)"
   ]
  },
  {
   "cell_type": "code",
   "execution_count": 83,
   "id": "91610791",
   "metadata": {},
   "outputs": [
    {
     "data": {
      "text/plain": [
       "[19, 17, 15, 23, 12]"
      ]
     },
     "execution_count": 83,
     "metadata": {},
     "output_type": "execute_result"
    }
   ],
   "source": [
    "numbers=[12,23,15,17,19]\n",
    "rev_list=[]\n",
    "for i in range(len(numbers)-1,-1,-1):\n",
    "    rev_list.append(numbers[i])\n",
    "rev_list"
   ]
  },
  {
   "cell_type": "code",
   "execution_count": null,
   "id": "77d7a825",
   "metadata": {},
   "outputs": [],
   "source": []
  }
 ],
 "metadata": {
  "kernelspec": {
   "display_name": "Python 3 (ipykernel)",
   "language": "python",
   "name": "python3"
  },
  "language_info": {
   "codemirror_mode": {
    "name": "ipython",
    "version": 3
   },
   "file_extension": ".py",
   "mimetype": "text/x-python",
   "name": "python",
   "nbconvert_exporter": "python",
   "pygments_lexer": "ipython3",
   "version": "3.11.3"
  }
 },
 "nbformat": 4,
 "nbformat_minor": 5
}
